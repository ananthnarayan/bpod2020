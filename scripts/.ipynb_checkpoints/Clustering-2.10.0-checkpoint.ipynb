{
 "cells": [
  {
   "cell_type": "code",
   "execution_count": 1,
   "metadata": {},
   "outputs": [],
   "source": [
    "import pandas as pd\n",
    "import numpy as np\n",
    "from sklearn.cluster import KMeans\n",
    "from sklearn.preprocessing import LabelEncoder\n",
    "from sklearn.preprocessing import MinMaxScaler\n",
    "import seaborn as sns\n",
    "import matplotlib.pyplot as plt\n",
    "from copy import deepcopy\n",
    "from sklearn import preprocessing\n",
    "from sklearn.cluster import KMeans\n",
    "# import numpy as np\n",
    "# import pandas as pd\n",
    "# from matplotlib import pyplot as plt\n",
    "plt.rcParams['figure.figsize'] = (16, 9)\n",
    "plt.style.use('ggplot')\n",
    "%matplotlib inline"
   ]
  },
  {
   "cell_type": "code",
   "execution_count": 24,
   "metadata": {},
   "outputs": [
    {
     "data": {
      "text/plain": [
       "Text(0, 0.5, 'Clusters')"
      ]
     },
     "execution_count": 24,
     "metadata": {},
     "output_type": "execute_result"
    },
    {
     "data": {
      "image/png": "[encoded data removed]",
      "text/plain": [
       "<Figure size 432x288 with 1 Axes>"
      ]
     },
     "metadata": {},
     "output_type": "display_data"
    }
   ],
   "source": [
    "data = pd.read_csv(\"../data/HiBench/csvs/3.2.1/tinysort_prep.csv\")\n",
    "data = data.drop(['Unnamed: 0'], axis = 1)\n",
    "data = data.dropna()\n",
    "# data \n",
    "IPC = list()\n",
    "for i in data.iterrows():\n",
    "    if(int(i[1][5]) == 0):\n",
    "        IPC.append(None)\n",
    "    else:\n",
    "        if(int(i[1][1]) / int(i[1][5]) < -0.4 or int(i[1][1]) / int(i[1][5]) > 1):\n",
    "            IPC.append(None)\n",
    "        else:\n",
    "            IPC.append(int(i[1][1]) / int(i[1][5]))\n",
    "#     print(i[1][4])\n",
    "\n",
    "data['IPC'] = IPC\n",
    "\n",
    "data = data.dropna()\n",
    "\n",
    "# Create x, where x the 'scores' column's values as floats\n",
    "x = data.values.astype(float)\n",
    "\n",
    "# Create a minimum and maximum processor object\n",
    "min_max_scaler = preprocessing.MinMaxScaler()\n",
    "\n",
    "# Create an object to transform the data to fit minmax processor\n",
    "x_scaled = min_max_scaler.fit_transform(x)\n",
    "\n",
    "# Run the normalizer on the dataframe\n",
    "data = pd.DataFrame(x_scaled)\n",
    "\n",
    "# sse = []\n",
    "# list_k = list(range(1, 20))\n",
    "\n",
    "# for k in list_k:\n",
    "#     km = KMeans(n_clusters=k)\n",
    "#     km.fit(data)\n",
    "#     sse.append(km.inertia_)\n",
    "\n",
    "# # Plot sse against k\n",
    "# plt.figure(figsize=(6, 6))\n",
    "# plt.plot(list_k, sse, '-o')\n",
    "# plt.xlabel(r'Number of clusters *k*')\n",
    "# plt.ylabel('Sum of squared distance');\n",
    "\n",
    "# Number of clusters\n",
    "kmeans = KMeans(n_clusters=9)\n",
    "# Fitting the input data\n",
    "kmeans = kmeans.fit(data)\n",
    "# Getting the cluster labels\n",
    "labels = kmeans.predict(data)\n",
    "# Centroid values\n",
    "centroids = kmeans.cluster_centers_\n",
    "\n",
    "arr = []\n",
    "for i in range(len(labels)):\n",
    "    arr.append(i)\n",
    "# print(arr)\n",
    "plt.scatter(arr, labels, c='#050505', s=7)\n",
    "plt.xlabel(\"Time(s)\\ntiny_sort_prep\")\n",
    "plt.ylabel(\"Clusters\")"
   ]
  },
  {
   "cell_type": "code",
   "execution_count": 28,
   "metadata": {},
   "outputs": [
    {
     "data": {
      "text/plain": [
       "Text(0, 0.5, 'Clusters')"
      ]
     },
     "execution_count": 28,
     "metadata": {},
     "output_type": "execute_result"
    },
    {
     "data": {
      "image/png": "[encoded data removed]",
      "text/plain": [
       "<Figure size 432x288 with 1 Axes>"
      ]
     },
     "metadata": {},
     "output_type": "display_data"
    }
   ],
   "source": [
    "data = pd.read_csv(\"../data/HiBench/csvs/3.2.1/tinysort_run.csv\")\n",
    "data = data.drop(['Unnamed: 0'], axis = 1)\n",
    "data = data.dropna()\n",
    "# data \n",
    "IPC = list()\n",
    "for i in data.iterrows():\n",
    "    if(int(i[1][5]) == 0):\n",
    "        IPC.append(None)\n",
    "    else:\n",
    "        if(int(i[1][1]) / int(i[1][5]) < -0.4 or int(i[1][1]) / int(i[1][5]) > 1):\n",
    "            IPC.append(None)\n",
    "        else:\n",
    "            IPC.append(int(i[1][1]) / int(i[1][5]))\n",
    "#     print(i[1][4])\n",
    "\n",
    "data['IPC'] = IPC\n",
    "\n",
    "data = data.dropna()\n",
    "\n",
    "# Create x, where x the 'scores' column's values as floats\n",
    "x = data.values.astype(float)\n",
    "\n",
    "# Create a minimum and maximum processor object\n",
    "min_max_scaler = preprocessing.MinMaxScaler()\n",
    "\n",
    "# Create an object to transform the data to fit minmax processor\n",
    "x_scaled = min_max_scaler.fit_transform(x)\n",
    "\n",
    "# Run the normalizer on the dataframe\n",
    "data = pd.DataFrame(x_scaled)\n",
    "\n",
    "# sse = []\n",
    "# list_k = list(range(1, 20))\n",
    "\n",
    "# for k in list_k:\n",
    "#     km = KMeans(n_clusters=k)\n",
    "#     km.fit(data)\n",
    "#     sse.append(km.inertia_)\n",
    "\n",
    "# # Plot sse against k\n",
    "# plt.figure(figsize=(6, 6))\n",
    "# plt.plot(list_k, sse, '-o')\n",
    "# plt.xlabel(r'Number of clusters *k*')\n",
    "# plt.ylabel('Sum of squared distance');\n",
    "\n",
    "# Number of clusters\n",
    "kmeans = KMeans(n_clusters=9)\n",
    "# Fitting the input data\n",
    "kmeans = kmeans.fit(data)\n",
    "# Getting the cluster labels\n",
    "labels = kmeans.predict(data)\n",
    "# Centroid values\n",
    "centroids = kmeans.cluster_centers_\n",
    "\n",
    "arr = []\n",
    "for i in range(len(labels)):\n",
    "    arr.append(i)\n",
    "# print(arr)\n",
    "plt.scatter(arr, labels, c='#050505', s=7)\n",
    "plt.xlabel(\"Time(s)\\ntiny_sort_run\")\n",
    "plt.ylabel(\"Clusters\")"
   ]
  },
  {
   "cell_type": "code",
   "execution_count": 32,
   "metadata": {},
   "outputs": [
    {
     "data": {
      "text/plain": [
       "Text(0, 0.5, 'Clusters')"
      ]
     },
     "execution_count": 32,
     "metadata": {},
     "output_type": "execute_result"
    },
    {
     "data": {
      "image/png": "[encoded data removed]",
      "text/plain": [
       "<Figure size 432x288 with 1 Axes>"
      ]
     },
     "metadata": {},
     "output_type": "display_data"
    }
   ],
   "source": [
    "data = pd.read_csv(\"../data/HiBench/csvs/3.2.1/medsort_run.csv\")\n",
    "data = data.drop(['Unnamed: 0'], axis = 1)\n",
    "data = data.dropna()\n",
    "# data \n",
    "IPC = list()\n",
    "for i in data.iterrows():\n",
    "    if(int(i[1][5]) == 0):\n",
    "        IPC.append(None)\n",
    "    else:\n",
    "        if(int(i[1][1]) / int(i[1][5]) < -0.4 or int(i[1][1]) / int(i[1][5]) > 1):\n",
    "            IPC.append(None)\n",
    "        else:\n",
    "            IPC.append(int(i[1][1]) / int(i[1][5]))\n",
    "#     print(i[1][4])\n",
    "\n",
    "data['IPC'] = IPC\n",
    "\n",
    "data = data.dropna()\n",
    "\n",
    "# Create x, where x the 'scores' column's values as floats\n",
    "x = data.values.astype(float)\n",
    "\n",
    "# Create a minimum and maximum processor object\n",
    "min_max_scaler = preprocessing.MinMaxScaler()\n",
    "\n",
    "# Create an object to transform the data to fit minmax processor\n",
    "x_scaled = min_max_scaler.fit_transform(x)\n",
    "\n",
    "# Run the normalizer on the dataframe\n",
    "data = pd.DataFrame(x_scaled)\n",
    "\n",
    "# sse = []\n",
    "# list_k = list(range(1, 20))\n",
    "\n",
    "# for k in list_k:\n",
    "#     km = KMeans(n_clusters=k)\n",
    "#     km.fit(data)\n",
    "#     sse.append(km.inertia_)\n",
    "\n",
    "# # Plot sse against k\n",
    "# plt.figure(figsize=(6, 6))\n",
    "# plt.plot(list_k, sse, '-o')\n",
    "# plt.xlabel(r'Number of clusters *k*')\n",
    "# plt.ylabel('Sum of squared distance');\n",
    "\n",
    "# Number of clusters\n",
    "kmeans = KMeans(n_clusters=9)\n",
    "# Fitting the input data\n",
    "kmeans = kmeans.fit(data)\n",
    "# Getting the cluster labels\n",
    "labels = kmeans.predict(data)\n",
    "# Centroid values\n",
    "centroids = kmeans.cluster_centers_\n",
    "\n",
    "arr = []\n",
    "for i in range(len(labels)):\n",
    "    arr.append(i)\n",
    "# print(arr)\n",
    "plt.scatter(arr, labels, c='#050505', s=7)\n",
    "plt.xlabel(\"Time(s)\\nmed_sort_run\")\n",
    "plt.ylabel(\"Clusters\")"
   ]
  },
  {
   "cell_type": "code",
   "execution_count": 33,
   "metadata": {},
   "outputs": [
    {
     "data": {
      "text/plain": [
       "Text(0, 0.5, 'Clusters')"
      ]
     },
     "execution_count": 33,
     "metadata": {},
     "output_type": "execute_result"
    },
    {
     "data": {
      "image/png": "[encoded data removed]",
      "text/plain": [
       "<Figure size 432x288 with 1 Axes>"
      ]
     },
     "metadata": {},
     "output_type": "display_data"
    }
   ],
   "source": [
    "data = pd.read_csv(\"../data/HiBench/csvs/3.2.1/sort_prep.csv\")\n",
    "data = data.drop(['Unnamed: 0'], axis = 1)\n",
    "data = data.dropna()\n",
    "# data \n",
    "IPC = list()\n",
    "for i in data.iterrows():\n",
    "    if(int(i[1][5]) == 0):\n",
    "        IPC.append(None)\n",
    "    else:\n",
    "        if(int(i[1][1]) / int(i[1][5]) < -0.4 or int(i[1][1]) / int(i[1][5]) > 1):\n",
    "            IPC.append(None)\n",
    "        else:\n",
    "            IPC.append(int(i[1][1]) / int(i[1][5]))\n",
    "#     print(i[1][4])\n",
    "\n",
    "data['IPC'] = IPC\n",
    "\n",
    "data = data.dropna()\n",
    "\n",
    "# Create x, where x the 'scores' column's values as floats\n",
    "x = data.values.astype(float)\n",
    "\n",
    "# Create a minimum and maximum processor object\n",
    "min_max_scaler = preprocessing.MinMaxScaler()\n",
    "\n",
    "# Create an object to transform the data to fit minmax processor\n",
    "x_scaled = min_max_scaler.fit_transform(x)\n",
    "\n",
    "# Run the normalizer on the dataframe\n",
    "data = pd.DataFrame(x_scaled)\n",
    "\n",
    "# sse = []\n",
    "# list_k = list(range(1, 20))\n",
    "\n",
    "# for k in list_k:\n",
    "#     km = KMeans(n_clusters=k)\n",
    "#     km.fit(data)\n",
    "#     sse.append(km.inertia_)\n",
    "\n",
    "# # Plot sse against k\n",
    "# plt.figure(figsize=(6, 6))\n",
    "# plt.plot(list_k, sse, '-o')\n",
    "# plt.xlabel(r'Number of clusters *k*')\n",
    "# plt.ylabel('Sum of squared distance');\n",
    "\n",
    "# Number of clusters\n",
    "kmeans = KMeans(n_clusters=9)\n",
    "# Fitting the input data\n",
    "kmeans = kmeans.fit(data)\n",
    "# Getting the cluster labels\n",
    "labels = kmeans.predict(data)\n",
    "# Centroid values\n",
    "centroids = kmeans.cluster_centers_\n",
    "\n",
    "arr = []\n",
    "for i in range(len(labels)):\n",
    "    arr.append(i)\n",
    "# print(arr)\n",
    "plt.scatter(arr, labels, c='#050505', s=7)\n",
    "plt.xlabel(\"Time(s)\\nlarge_sort_prep\")\n",
    "plt.ylabel(\"Clusters\")"
   ]
  },
  {
   "cell_type": "code",
   "execution_count": 34,
   "metadata": {},
   "outputs": [
    {
     "data": {
      "text/plain": [
       "Text(0, 0.5, 'Clusters')"
      ]
     },
     "execution_count": 34,
     "metadata": {},
     "output_type": "execute_result"
    },
    {
     "data": {
      "image/png": "[encoded data removed]",
      "text/plain": [
       "<Figure size 432x288 with 1 Axes>"
      ]
     },
     "metadata": {},
     "output_type": "display_data"
    }
   ],
   "source": [
    "data = pd.read_csv(\"../data/HiBench/csvs/3.2.1/sort_run.csv\")\n",
    "data = data.drop(['Unnamed: 0'], axis = 1)\n",
    "data = data.dropna()\n",
    "# data \n",
    "IPC = list()\n",
    "for i in data.iterrows():\n",
    "    if(int(i[1][5]) == 0):\n",
    "        IPC.append(None)\n",
    "    else:\n",
    "        if(int(i[1][1]) / int(i[1][5]) < -0.4 or int(i[1][1]) / int(i[1][5]) > 1):\n",
    "            IPC.append(None)\n",
    "        else:\n",
    "            IPC.append(int(i[1][1]) / int(i[1][5]))\n",
    "#     print(i[1][4])\n",
    "\n",
    "data['IPC'] = IPC\n",
    "\n",
    "data = data.dropna()\n",
    "\n",
    "# Create x, where x the 'scores' column's values as floats\n",
    "x = data.values.astype(float)\n",
    "\n",
    "# Create a minimum and maximum processor object\n",
    "min_max_scaler = preprocessing.MinMaxScaler()\n",
    "\n",
    "# Create an object to transform the data to fit minmax processor\n",
    "x_scaled = min_max_scaler.fit_transform(x)\n",
    "\n",
    "# Run the normalizer on the dataframe\n",
    "data = pd.DataFrame(x_scaled)\n",
    "\n",
    "# sse = []\n",
    "# list_k = list(range(1, 20))\n",
    "\n",
    "# for k in list_k:\n",
    "#     km = KMeans(n_clusters=k)\n",
    "#     km.fit(data)\n",
    "#     sse.append(km.inertia_)\n",
    "\n",
    "# # Plot sse against k\n",
    "# plt.figure(figsize=(6, 6))\n",
    "# plt.plot(list_k, sse, '-o')\n",
    "# plt.xlabel(r'Number of clusters *k*')\n",
    "# plt.ylabel('Sum of squared distance');\n",
    "\n",
    "# Number of clusters\n",
    "kmeans = KMeans(n_clusters=9)\n",
    "# Fitting the input data\n",
    "kmeans = kmeans.fit(data)\n",
    "# Getting the cluster labels\n",
    "labels = kmeans.predict(data)\n",
    "# Centroid values\n",
    "centroids = kmeans.cluster_centers_\n",
    "\n",
    "arr = []\n",
    "for i in range(len(labels)):\n",
    "    arr.append(i)\n",
    "# print(arr)\n",
    "plt.scatter(arr, labels, c='#050505', s=7)\n",
    "plt.xlabel(\"Time(s)\\nlarge_sort_run\")\n",
    "plt.ylabel(\"Clusters\")"
   ]
  },
  {
   "cell_type": "code",
   "execution_count": 36,
   "metadata": {},
   "outputs": [
    {
     "data": {
      "text/plain": [
       "Text(0, 0.5, 'Clusters')"
      ]
     },
     "execution_count": 36,
     "metadata": {},
     "output_type": "execute_result"
    },
    {
     "data": {
      "image/png": "[encoded data removed]",
      "text/plain": [
       "<Figure size 432x288 with 1 Axes>"
      ]
     },
     "metadata": {},
     "output_type": "display_data"
    }
   ],
   "source": [
    "data = pd.read_csv(\"../data/HiBench/csvs/3.2.1/tinyterasort_prep.csv\")\n",
    "data = data.drop(['Unnamed: 0'], axis = 1)\n",
    "data = data.dropna()\n",
    "# data \n",
    "IPC = list()\n",
    "for i in data.iterrows():\n",
    "    if(int(i[1][5]) == 0):\n",
    "        IPC.append(None)\n",
    "    else:\n",
    "        if(int(i[1][1]) / int(i[1][5]) < -0.4 or int(i[1][1]) / int(i[1][5]) > 1):\n",
    "            IPC.append(None)\n",
    "        else:\n",
    "            IPC.append(int(i[1][1]) / int(i[1][5]))\n",
    "#     print(i[1][4])\n",
    "\n",
    "data['IPC'] = IPC\n",
    "\n",
    "data = data.dropna()\n",
    "\n",
    "# Create x, where x the 'scores' column's values as floats\n",
    "x = data.values.astype(float)\n",
    "\n",
    "# Create a minimum and maximum processor object\n",
    "min_max_scaler = preprocessing.MinMaxScaler()\n",
    "\n",
    "# Create an object to transform the data to fit minmax processor\n",
    "x_scaled = min_max_scaler.fit_transform(x)\n",
    "\n",
    "# Run the normalizer on the dataframe\n",
    "data = pd.DataFrame(x_scaled)\n",
    "\n",
    "# sse = []\n",
    "# list_k = list(range(1, 20))\n",
    "\n",
    "# for k in list_k:\n",
    "#     km = KMeans(n_clusters=k)\n",
    "#     km.fit(data)\n",
    "#     sse.append(km.inertia_)\n",
    "\n",
    "# # Plot sse against k\n",
    "# plt.figure(figsize=(6, 6))\n",
    "# plt.plot(list_k, sse, '-o')\n",
    "# plt.xlabel(r'Number of clusters *k*')\n",
    "# plt.ylabel('Sum of squared distance');\n",
    "\n",
    "# Number of clusters\n",
    "kmeans = KMeans(n_clusters=9)\n",
    "# Fitting the input data\n",
    "kmeans = kmeans.fit(data)\n",
    "# Getting the cluster labels\n",
    "labels = kmeans.predict(data)\n",
    "# Centroid values\n",
    "centroids = kmeans.cluster_centers_\n",
    "\n",
    "arr = []\n",
    "for i in range(len(labels)):\n",
    "    arr.append(i)\n",
    "# print(arr)\n",
    "plt.scatter(arr, labels, c='#050505', s=7)\n",
    "plt.xlabel(\"Time(s)\\ntiny_terasort_prep\")\n",
    "plt.ylabel(\"Clusters\")"
   ]
  },
  {
   "cell_type": "code",
   "execution_count": 37,
   "metadata": {},
   "outputs": [
    {
     "data": {
      "text/plain": [
       "Text(0, 0.5, 'Clusters')"
      ]
     },
     "execution_count": 37,
     "metadata": {},
     "output_type": "execute_result"
    },
    {
     "data": {
      "image/png": "[encoded data removed]",
      "text/plain": [
       "<Figure size 432x288 with 1 Axes>"
      ]
     },
     "metadata": {},
     "output_type": "display_data"
    }
   ],
   "source": [
    "data = pd.read_csv(\"../data/HiBench/csvs/3.2.1/tinyterasort_run.csv\")\n",
    "data = data.drop(['Unnamed: 0'], axis = 1)\n",
    "data = data.dropna()\n",
    "# data \n",
    "IPC = list()\n",
    "for i in data.iterrows():\n",
    "    if(int(i[1][5]) == 0):\n",
    "        IPC.append(None)\n",
    "    else:\n",
    "        if(int(i[1][1]) / int(i[1][5]) < -0.4 or int(i[1][1]) / int(i[1][5]) > 1):\n",
    "            IPC.append(None)\n",
    "        else:\n",
    "            IPC.append(int(i[1][1]) / int(i[1][5]))\n",
    "#     print(i[1][4])\n",
    "\n",
    "data['IPC'] = IPC\n",
    "\n",
    "data = data.dropna()\n",
    "\n",
    "# Create x, where x the 'scores' column's values as floats\n",
    "x = data.values.astype(float)\n",
    "\n",
    "# Create a minimum and maximum processor object\n",
    "min_max_scaler = preprocessing.MinMaxScaler()\n",
    "\n",
    "# Create an object to transform the data to fit minmax processor\n",
    "x_scaled = min_max_scaler.fit_transform(x)\n",
    "\n",
    "# Run the normalizer on the dataframe\n",
    "data = pd.DataFrame(x_scaled)\n",
    "\n",
    "# sse = []\n",
    "# list_k = list(range(1, 20))\n",
    "\n",
    "# for k in list_k:\n",
    "#     km = KMeans(n_clusters=k)\n",
    "#     km.fit(data)\n",
    "#     sse.append(km.inertia_)\n",
    "\n",
    "# # Plot sse against k\n",
    "# plt.figure(figsize=(6, 6))\n",
    "# plt.plot(list_k, sse, '-o')\n",
    "# plt.xlabel(r'Number of clusters *k*')\n",
    "# plt.ylabel('Sum of squared distance');\n",
    "\n",
    "# Number of clusters\n",
    "kmeans = KMeans(n_clusters=9)\n",
    "# Fitting the input data\n",
    "kmeans = kmeans.fit(data)\n",
    "# Getting the cluster labels\n",
    "labels = kmeans.predict(data)\n",
    "# Centroid values\n",
    "centroids = kmeans.cluster_centers_\n",
    "\n",
    "arr = []\n",
    "for i in range(len(labels)):\n",
    "    arr.append(i)\n",
    "# print(arr)\n",
    "plt.scatter(arr, labels, c='#050505', s=7)\n",
    "plt.xlabel(\"Time(s)\\ntiny_terasort_run\")\n",
    "plt.ylabel(\"Clusters\")"
   ]
  },
  {
   "cell_type": "code",
   "execution_count": 38,
   "metadata": {},
   "outputs": [
    {
     "data": {
      "text/plain": [
       "Text(0, 0.5, 'Clusters')"
      ]
     },
     "execution_count": 38,
     "metadata": {},
     "output_type": "execute_result"
    },
    {
     "data": {
      "image/png": "[encoded data removed]",
      "text/plain": [
       "<Figure size 432x288 with 1 Axes>"
      ]
     },
     "metadata": {},
     "output_type": "display_data"
    }
   ],
   "source": [
    "data = pd.read_csv(\"../data/HiBench/csvs/3.2.1/medterasort_prep.csv\")\n",
    "data = data.drop(['Unnamed: 0'], axis = 1)\n",
    "data = data.dropna()\n",
    "# data \n",
    "IPC = list()\n",
    "for i in data.iterrows():\n",
    "    if(int(i[1][5]) == 0):\n",
    "        IPC.append(None)\n",
    "    else:\n",
    "        if(int(i[1][1]) / int(i[1][5]) < -0.4 or int(i[1][1]) / int(i[1][5]) > 1):\n",
    "            IPC.append(None)\n",
    "        else:\n",
    "            IPC.append(int(i[1][1]) / int(i[1][5]))\n",
    "#     print(i[1][4])\n",
    "\n",
    "data['IPC'] = IPC\n",
    "\n",
    "data = data.dropna()\n",
    "\n",
    "# Create x, where x the 'scores' column's values as floats\n",
    "x = data.values.astype(float)\n",
    "\n",
    "# Create a minimum and maximum processor object\n",
    "min_max_scaler = preprocessing.MinMaxScaler()\n",
    "\n",
    "# Create an object to transform the data to fit minmax processor\n",
    "x_scaled = min_max_scaler.fit_transform(x)\n",
    "\n",
    "# Run the normalizer on the dataframe\n",
    "data = pd.DataFrame(x_scaled)\n",
    "\n",
    "# sse = []\n",
    "# list_k = list(range(1, 20))\n",
    "\n",
    "# for k in list_k:\n",
    "#     km = KMeans(n_clusters=k)\n",
    "#     km.fit(data)\n",
    "#     sse.append(km.inertia_)\n",
    "\n",
    "# # Plot sse against k\n",
    "# plt.figure(figsize=(6, 6))\n",
    "# plt.plot(list_k, sse, '-o')\n",
    "# plt.xlabel(r'Number of clusters *k*')\n",
    "# plt.ylabel('Sum of squared distance');\n",
    "\n",
    "# Number of clusters\n",
    "kmeans = KMeans(n_clusters=9)\n",
    "# Fitting the input data\n",
    "kmeans = kmeans.fit(data)\n",
    "# Getting the cluster labels\n",
    "labels = kmeans.predict(data)\n",
    "# Centroid values\n",
    "centroids = kmeans.cluster_centers_\n",
    "\n",
    "arr = []\n",
    "for i in range(len(labels)):\n",
    "    arr.append(i)\n",
    "# print(arr)\n",
    "plt.scatter(arr, labels, c='#050505', s=7)\n",
    "plt.xlabel(\"Time(s)\\nmed_terasort_prep\")\n",
    "plt.ylabel(\"Clusters\")"
   ]
  },
  {
   "cell_type": "code",
   "execution_count": 39,
   "metadata": {},
   "outputs": [
    {
     "data": {
      "text/plain": [
       "Text(0, 0.5, 'Clusters')"
      ]
     },
     "execution_count": 39,
     "metadata": {},
     "output_type": "execute_result"
    },
    {
     "data": {
      "image/png": "[encoded data removed]",
      "text/plain": [
       "<Figure size 432x288 with 1 Axes>"
      ]
     },
     "metadata": {},
     "output_type": "display_data"
    }
   ],
   "source": [
    "data = pd.read_csv(\"../data/HiBench/csvs/3.2.1/terasort_prep.csv\")\n",
    "data = data.drop(['Unnamed: 0'], axis = 1)\n",
    "data = data.dropna()\n",
    "# data \n",
    "IPC = list()\n",
    "for i in data.iterrows():\n",
    "    if(int(i[1][5]) == 0):\n",
    "        IPC.append(None)\n",
    "    else:\n",
    "        if(int(i[1][1]) / int(i[1][5]) < -0.4 or int(i[1][1]) / int(i[1][5]) > 1):\n",
    "            IPC.append(None)\n",
    "        else:\n",
    "            IPC.append(int(i[1][1]) / int(i[1][5]))\n",
    "#     print(i[1][4])\n",
    "\n",
    "data['IPC'] = IPC\n",
    "\n",
    "data = data.dropna()\n",
    "\n",
    "# Create x, where x the 'scores' column's values as floats\n",
    "x = data.values.astype(float)\n",
    "\n",
    "# Create a minimum and maximum processor object\n",
    "min_max_scaler = preprocessing.MinMaxScaler()\n",
    "\n",
    "# Create an object to transform the data to fit minmax processor\n",
    "x_scaled = min_max_scaler.fit_transform(x)\n",
    "\n",
    "# Run the normalizer on the dataframe\n",
    "data = pd.DataFrame(x_scaled)\n",
    "\n",
    "# sse = []\n",
    "# list_k = list(range(1, 20))\n",
    "\n",
    "# for k in list_k:\n",
    "#     km = KMeans(n_clusters=k)\n",
    "#     km.fit(data)\n",
    "#     sse.append(km.inertia_)\n",
    "\n",
    "# # Plot sse against k\n",
    "# plt.figure(figsize=(6, 6))\n",
    "# plt.plot(list_k, sse, '-o')\n",
    "# plt.xlabel(r'Number of clusters *k*')\n",
    "# plt.ylabel('Sum of squared distance');\n",
    "\n",
    "# Number of clusters\n",
    "kmeans = KMeans(n_clusters=9)\n",
    "# Fitting the input data\n",
    "kmeans = kmeans.fit(data)\n",
    "# Getting the cluster labels\n",
    "labels = kmeans.predict(data)\n",
    "# Centroid values\n",
    "centroids = kmeans.cluster_centers_\n",
    "\n",
    "arr = []\n",
    "for i in range(len(labels)):\n",
    "    arr.append(i)\n",
    "# print(arr)\n",
    "plt.scatter(arr, labels, c='#050505', s=7)\n",
    "plt.xlabel(\"Time(s)\\nlarge_terasort_prep\")\n",
    "plt.ylabel(\"Clusters\")"
   ]
  },
  {
   "cell_type": "code",
   "execution_count": 41,
   "metadata": {},
   "outputs": [
    {
     "data": {
      "text/plain": [
       "Text(0, 0.5, 'Clusters')"
      ]
     },
     "execution_count": 41,
     "metadata": {},
     "output_type": "execute_result"
    },
    {
     "data": {
      "image/png": "[encoded data removed]",
      "text/plain": [
       "<Figure size 432x288 with 1 Axes>"
      ]
     },
     "metadata": {},
     "output_type": "display_data"
    }
   ],
   "source": [
    "data = pd.read_csv(\"../data/HiBench/csvs/3.2.1/terasort_run.csv\")\n",
    "data = data.drop(['Unnamed: 0'], axis = 1)\n",
    "data = data.dropna()\n",
    "# data \n",
    "IPC = list()\n",
    "for i in data.iterrows():\n",
    "    if(int(i[1][5]) == 0):\n",
    "        IPC.append(None)\n",
    "    else:\n",
    "        if(int(i[1][1]) / int(i[1][5]) < -0.4 or int(i[1][1]) / int(i[1][5]) > 1):\n",
    "            IPC.append(None)\n",
    "        else:\n",
    "            IPC.append(int(i[1][1]) / int(i[1][5]))\n",
    "#     print(i[1][4])\n",
    "\n",
    "data['IPC'] = IPC\n",
    "\n",
    "data = data.dropna()\n",
    "\n",
    "# Create x, where x the 'scores' column's values as floats\n",
    "x = data.values.astype(float)\n",
    "\n",
    "# Create a minimum and maximum processor object\n",
    "min_max_scaler = preprocessing.MinMaxScaler()\n",
    "\n",
    "# Create an object to transform the data to fit minmax processor\n",
    "x_scaled = min_max_scaler.fit_transform(x)\n",
    "\n",
    "# Run the normalizer on the dataframe\n",
    "data = pd.DataFrame(x_scaled)\n",
    "\n",
    "# sse = []\n",
    "# list_k = list(range(1, 20))\n",
    "\n",
    "# for k in list_k:\n",
    "#     km = KMeans(n_clusters=k)\n",
    "#     km.fit(data)\n",
    "#     sse.append(km.inertia_)\n",
    "\n",
    "# # Plot sse against k\n",
    "# plt.figure(figsize=(6, 6))\n",
    "# plt.plot(list_k, sse, '-o')\n",
    "# plt.xlabel(r'Number of clusters *k*')\n",
    "# plt.ylabel('Sum of squared distance');\n",
    "\n",
    "# Number of clusters\n",
    "kmeans = KMeans(n_clusters=9)\n",
    "# Fitting the input data\n",
    "kmeans = kmeans.fit(data)\n",
    "# Getting the cluster labels\n",
    "labels = kmeans.predict(data)\n",
    "# Centroid values\n",
    "centroids = kmeans.cluster_centers_\n",
    "\n",
    "arr = []\n",
    "for i in range(len(labels)):\n",
    "    arr.append(i)\n",
    "# print(arr)\n",
    "plt.scatter(arr, labels, c='#050505', s=7)\n",
    "plt.xlabel(\"Time(s)\\nlarge_terasort_run\")\n",
    "plt.ylabel(\"Clusters\")"
   ]
  },
  {
   "cell_type": "code",
   "execution_count": 43,
   "metadata": {},
   "outputs": [
    {
     "data": {
      "text/plain": [
       "Text(0, 0.5, 'Clusters')"
      ]
     },
     "execution_count": 43,
     "metadata": {},
     "output_type": "execute_result"
    },
    {
     "data": {
      "image/png": "[encoded data removed]",
      "text/plain": [
       "<Figure size 432x288 with 1 Axes>"
      ]
     },
     "metadata": {},
     "output_type": "display_data"
    }
   ],
   "source": [
    "data = pd.read_csv(\"../data/HiBench/csvs/3.2.1/tinywordcount_prep.csv\")\n",
    "data = data.drop(['Unnamed: 0'], axis = 1)\n",
    "data = data.dropna()\n",
    "# data \n",
    "IPC = list()\n",
    "for i in data.iterrows():\n",
    "    if(int(i[1][5]) == 0):\n",
    "        IPC.append(None)\n",
    "    else:\n",
    "        if(int(i[1][1]) / int(i[1][5]) < -0.4 or int(i[1][1]) / int(i[1][5]) > 1):\n",
    "            IPC.append(None)\n",
    "        else:\n",
    "            IPC.append(int(i[1][1]) / int(i[1][5]))\n",
    "#     print(i[1][4])\n",
    "\n",
    "data['IPC'] = IPC\n",
    "\n",
    "data = data.dropna()\n",
    "\n",
    "# Create x, where x the 'scores' column's values as floats\n",
    "x = data.values.astype(float)\n",
    "\n",
    "# Create a minimum and maximum processor object\n",
    "min_max_scaler = preprocessing.MinMaxScaler()\n",
    "\n",
    "# Create an object to transform the data to fit minmax processor\n",
    "x_scaled = min_max_scaler.fit_transform(x)\n",
    "\n",
    "# Run the normalizer on the dataframe\n",
    "data = pd.DataFrame(x_scaled)\n",
    "\n",
    "# sse = []\n",
    "# list_k = list(range(1, 20))\n",
    "\n",
    "# for k in list_k:\n",
    "#     km = KMeans(n_clusters=k)\n",
    "#     km.fit(data)\n",
    "#     sse.append(km.inertia_)\n",
    "\n",
    "# # Plot sse against k\n",
    "# plt.figure(figsize=(6, 6))\n",
    "# plt.plot(list_k, sse, '-o')\n",
    "# plt.xlabel(r'Number of clusters *k*')\n",
    "# plt.ylabel('Sum of squared distance');\n",
    "\n",
    "# Number of clusters\n",
    "kmeans = KMeans(n_clusters=9)\n",
    "# Fitting the input data\n",
    "kmeans = kmeans.fit(data)\n",
    "# Getting the cluster labels\n",
    "labels = kmeans.predict(data)\n",
    "# Centroid values\n",
    "centroids = kmeans.cluster_centers_\n",
    "\n",
    "arr = []\n",
    "for i in range(len(labels)):\n",
    "    arr.append(i)\n",
    "# print(arr)\n",
    "plt.scatter(arr, labels, c='#050505', s=7)\n",
    "plt.xlabel(\"Time(s)\\ntinywc_prep\")\n",
    "plt.ylabel(\"Clusters\")"
   ]
  },
  {
   "cell_type": "code",
   "execution_count": 44,
   "metadata": {},
   "outputs": [
    {
     "data": {
      "text/plain": [
       "Text(0, 0.5, 'Clusters')"
      ]
     },
     "execution_count": 44,
     "metadata": {},
     "output_type": "execute_result"
    },
    {
     "data": {
      "image/png": "[encoded data removed]",
      "text/plain": [
       "<Figure size 432x288 with 1 Axes>"
      ]
     },
     "metadata": {},
     "output_type": "display_data"
    }
   ],
   "source": [
    "data = pd.read_csv(\"../data/HiBench/csvs/3.2.1/tinywordcount_run.csv\")\n",
    "data = data.drop(['Unnamed: 0'], axis = 1)\n",
    "data = data.dropna()\n",
    "# data \n",
    "IPC = list()\n",
    "for i in data.iterrows():\n",
    "    if(int(i[1][5]) == 0):\n",
    "        IPC.append(None)\n",
    "    else:\n",
    "        if(int(i[1][1]) / int(i[1][5]) < -0.4 or int(i[1][1]) / int(i[1][5]) > 1):\n",
    "            IPC.append(None)\n",
    "        else:\n",
    "            IPC.append(int(i[1][1]) / int(i[1][5]))\n",
    "#     print(i[1][4])\n",
    "\n",
    "data['IPC'] = IPC\n",
    "\n",
    "data = data.dropna()\n",
    "\n",
    "# Create x, where x the 'scores' column's values as floats\n",
    "x = data.values.astype(float)\n",
    "\n",
    "# Create a minimum and maximum processor object\n",
    "min_max_scaler = preprocessing.MinMaxScaler()\n",
    "\n",
    "# Create an object to transform the data to fit minmax processor\n",
    "x_scaled = min_max_scaler.fit_transform(x)\n",
    "\n",
    "# Run the normalizer on the dataframe\n",
    "data = pd.DataFrame(x_scaled)\n",
    "\n",
    "# sse = []\n",
    "# list_k = list(range(1, 20))\n",
    "\n",
    "# for k in list_k:\n",
    "#     km = KMeans(n_clusters=k)\n",
    "#     km.fit(data)\n",
    "#     sse.append(km.inertia_)\n",
    "\n",
    "# # Plot sse against k\n",
    "# plt.figure(figsize=(6, 6))\n",
    "# plt.plot(list_k, sse, '-o')\n",
    "# plt.xlabel(r'Number of clusters *k*')\n",
    "# plt.ylabel('Sum of squared distance');\n",
    "\n",
    "# Number of clusters\n",
    "kmeans = KMeans(n_clusters=9)\n",
    "# Fitting the input data\n",
    "kmeans = kmeans.fit(data)\n",
    "# Getting the cluster labels\n",
    "labels = kmeans.predict(data)\n",
    "# Centroid values\n",
    "centroids = kmeans.cluster_centers_\n",
    "\n",
    "arr = []\n",
    "for i in range(len(labels)):\n",
    "    arr.append(i)\n",
    "# print(arr)\n",
    "plt.scatter(arr, labels, c='#050505', s=7)\n",
    "plt.xlabel(\"Time(s)\\ntinywc_run\")\n",
    "plt.ylabel(\"Clusters\")"
   ]
  },
  {
   "cell_type": "code",
   "execution_count": 47,
   "metadata": {},
   "outputs": [
    {
     "data": {
      "text/plain": [
       "Text(0, 0.5, 'Clusters')"
      ]
     },
     "execution_count": 47,
     "metadata": {},
     "output_type": "execute_result"
    },
    {
     "data": {
      "image/png": "[encoded data removed]",
      "text/plain": [
       "<Figure size 432x288 with 1 Axes>"
      ]
     },
     "metadata": {},
     "output_type": "display_data"
    }
   ],
   "source": [
    "data = pd.read_csv(\"../data/HiBench/csvs/3.2.1/medwordcount_prep.csv\")\n",
    "data = data.drop(['Unnamed: 0'], axis = 1)\n",
    "data = data.dropna()\n",
    "# data \n",
    "IPC = list()\n",
    "for i in data.iterrows():\n",
    "    if(int(i[1][5]) == 0):\n",
    "        IPC.append(None)\n",
    "    else:\n",
    "        if(int(i[1][1]) / int(i[1][5]) < -0.4 or int(i[1][1]) / int(i[1][5]) > 1):\n",
    "            IPC.append(None)\n",
    "        else:\n",
    "            IPC.append(int(i[1][1]) / int(i[1][5]))\n",
    "#     print(i[1][4])\n",
    "\n",
    "data['IPC'] = IPC\n",
    "\n",
    "data = data.dropna()\n",
    "\n",
    "# Create x, where x the 'scores' column's values as floats\n",
    "x = data.values.astype(float)\n",
    "\n",
    "# Create a minimum and maximum processor object\n",
    "min_max_scaler = preprocessing.MinMaxScaler()\n",
    "\n",
    "# Create an object to transform the data to fit minmax processor\n",
    "x_scaled = min_max_scaler.fit_transform(x)\n",
    "\n",
    "# Run the normalizer on the dataframe\n",
    "data = pd.DataFrame(x_scaled)\n",
    "\n",
    "# sse = []\n",
    "# list_k = list(range(1, 20))\n",
    "\n",
    "# for k in list_k:\n",
    "#     km = KMeans(n_clusters=k)\n",
    "#     km.fit(data)\n",
    "#     sse.append(km.inertia_)\n",
    "\n",
    "# # Plot sse against k\n",
    "# plt.figure(figsize=(6, 6))\n",
    "# plt.plot(list_k, sse, '-o')\n",
    "# plt.xlabel(r'Number of clusters *k*')\n",
    "# plt.ylabel('Sum of squared distance');\n",
    "\n",
    "# Number of clusters\n",
    "kmeans = KMeans(n_clusters=9)\n",
    "# Fitting the input data\n",
    "kmeans = kmeans.fit(data)\n",
    "# Getting the cluster labels\n",
    "labels = kmeans.predict(data)\n",
    "# Centroid values\n",
    "centroids = kmeans.cluster_centers_\n",
    "\n",
    "arr = []\n",
    "for i in range(len(labels)):\n",
    "    arr.append(i)\n",
    "# print(arr)\n",
    "plt.scatter(arr, labels, c='#050505', s=7)\n",
    "plt.xlabel(\"Time(s)\\nmedwc_prep\")\n",
    "plt.ylabel(\"Clusters\")"
   ]
  },
  {
   "cell_type": "code",
   "execution_count": 48,
   "metadata": {},
   "outputs": [
    {
     "data": {
      "text/plain": [
       "Text(0, 0.5, 'Clusters')"
      ]
     },
     "execution_count": 48,
     "metadata": {},
     "output_type": "execute_result"
    },
    {
     "data": {
      "image/png": "[encoded data removed]",
      "text/plain": [
       "<Figure size 432x288 with 1 Axes>"
      ]
     },
     "metadata": {},
     "output_type": "display_data"
    }
   ],
   "source": [
    "data = pd.read_csv(\"../data/HiBench/csvs/3.2.1/medwordcount_run.csv\")\n",
    "data = data.drop(['Unnamed: 0'], axis = 1)\n",
    "data = data.dropna()\n",
    "# data \n",
    "IPC = list()\n",
    "for i in data.iterrows():\n",
    "    if(int(i[1][5]) == 0):\n",
    "        IPC.append(None)\n",
    "    else:\n",
    "        if(int(i[1][1]) / int(i[1][5]) < -0.4 or int(i[1][1]) / int(i[1][5]) > 1):\n",
    "            IPC.append(None)\n",
    "        else:\n",
    "            IPC.append(int(i[1][1]) / int(i[1][5]))\n",
    "#     print(i[1][4])\n",
    "\n",
    "data['IPC'] = IPC\n",
    "\n",
    "data = data.dropna()\n",
    "\n",
    "# Create x, where x the 'scores' column's values as floats\n",
    "x = data.values.astype(float)\n",
    "\n",
    "# Create a minimum and maximum processor object\n",
    "min_max_scaler = preprocessing.MinMaxScaler()\n",
    "\n",
    "# Create an object to transform the data to fit minmax processor\n",
    "x_scaled = min_max_scaler.fit_transform(x)\n",
    "\n",
    "# Run the normalizer on the dataframe\n",
    "data = pd.DataFrame(x_scaled)\n",
    "\n",
    "# sse = []\n",
    "# list_k = list(range(1, 20))\n",
    "\n",
    "# for k in list_k:\n",
    "#     km = KMeans(n_clusters=k)\n",
    "#     km.fit(data)\n",
    "#     sse.append(km.inertia_)\n",
    "\n",
    "# # Plot sse against k\n",
    "# plt.figure(figsize=(6, 6))\n",
    "# plt.plot(list_k, sse, '-o')\n",
    "# plt.xlabel(r'Number of clusters *k*')\n",
    "# plt.ylabel('Sum of squared distance');\n",
    "\n",
    "# Number of clusters\n",
    "kmeans = KMeans(n_clusters=9)\n",
    "# Fitting the input data\n",
    "kmeans = kmeans.fit(data)\n",
    "# Getting the cluster labels\n",
    "labels = kmeans.predict(data)\n",
    "# Centroid values\n",
    "centroids = kmeans.cluster_centers_\n",
    "\n",
    "arr = []\n",
    "for i in range(len(labels)):\n",
    "    arr.append(i)\n",
    "# print(arr)\n",
    "plt.scatter(arr, labels, c='#050505', s=7)\n",
    "plt.xlabel(\"Time(s)\\nmedwc_run\")\n",
    "plt.ylabel(\"Clusters\")"
   ]
  },
  {
   "cell_type": "code",
   "execution_count": 49,
   "metadata": {},
   "outputs": [
    {
     "data": {
      "text/plain": [
       "Text(0, 0.5, 'Clusters')"
      ]
     },
     "execution_count": 49,
     "metadata": {},
     "output_type": "execute_result"
    },
    {
     "data": {
      "image/png": "[encoded data removed]",
      "text/plain": [
       "<Figure size 432x288 with 1 Axes>"
      ]
     },
     "metadata": {},
     "output_type": "display_data"
    }
   ],
   "source": [
    "data = pd.read_csv(\"../data/HiBench/csvs/3.2.1/wordcount_prep.csv\")\n",
    "data = data.drop(['Unnamed: 0'], axis = 1)\n",
    "data = data.dropna()\n",
    "# data \n",
    "IPC = list()\n",
    "for i in data.iterrows():\n",
    "    if(int(i[1][5]) == 0):\n",
    "        IPC.append(None)\n",
    "    else:\n",
    "        if(int(i[1][1]) / int(i[1][5]) < -0.4 or int(i[1][1]) / int(i[1][5]) > 1):\n",
    "            IPC.append(None)\n",
    "        else:\n",
    "            IPC.append(int(i[1][1]) / int(i[1][5]))\n",
    "#     print(i[1][4])\n",
    "\n",
    "data['IPC'] = IPC\n",
    "\n",
    "data = data.dropna()\n",
    "\n",
    "# Create x, where x the 'scores' column's values as floats\n",
    "x = data.values.astype(float)\n",
    "\n",
    "# Create a minimum and maximum processor object\n",
    "min_max_scaler = preprocessing.MinMaxScaler()\n",
    "\n",
    "# Create an object to transform the data to fit minmax processor\n",
    "x_scaled = min_max_scaler.fit_transform(x)\n",
    "\n",
    "# Run the normalizer on the dataframe\n",
    "data = pd.DataFrame(x_scaled)\n",
    "\n",
    "# sse = []\n",
    "# list_k = list(range(1, 20))\n",
    "\n",
    "# for k in list_k:\n",
    "#     km = KMeans(n_clusters=k)\n",
    "#     km.fit(data)\n",
    "#     sse.append(km.inertia_)\n",
    "\n",
    "# # Plot sse against k\n",
    "# plt.figure(figsize=(6, 6))\n",
    "# plt.plot(list_k, sse, '-o')\n",
    "# plt.xlabel(r'Number of clusters *k*')\n",
    "# plt.ylabel('Sum of squared distance');\n",
    "\n",
    "# Number of clusters\n",
    "kmeans = KMeans(n_clusters=9)\n",
    "# Fitting the input data\n",
    "kmeans = kmeans.fit(data)\n",
    "# Getting the cluster labels\n",
    "labels = kmeans.predict(data)\n",
    "# Centroid values\n",
    "centroids = kmeans.cluster_centers_\n",
    "\n",
    "arr = []\n",
    "for i in range(len(labels)):\n",
    "    arr.append(i)\n",
    "# print(arr)\n",
    "plt.scatter(arr, labels, c='#050505', s=7)\n",
    "plt.xlabel(\"Time(s)\\nlargewc_prep\")\n",
    "plt.ylabel(\"Clusters\")"
   ]
  },
  {
   "cell_type": "code",
   "execution_count": 50,
   "metadata": {},
   "outputs": [
    {
     "data": {
      "text/plain": [
       "Text(0, 0.5, 'Clusters')"
      ]
     },
     "execution_count": 50,
     "metadata": {},
     "output_type": "execute_result"
    },
    {
     "data": {
      "image/png": "[encoded data removed]",
      "text/plain": [
       "<Figure size 432x288 with 1 Axes>"
      ]
     },
     "metadata": {},
     "output_type": "display_data"
    }
   ],
   "source": [
    "data = pd.read_csv(\"../data/HiBench/csvs/3.2.1/wordcount_run.csv\")\n",
    "data = data.drop(['Unnamed: 0'], axis = 1)\n",
    "data = data.dropna()\n",
    "# data \n",
    "IPC = list()\n",
    "for i in data.iterrows():\n",
    "    if(int(i[1][5]) == 0):\n",
    "        IPC.append(None)\n",
    "    else:\n",
    "        if(int(i[1][1]) / int(i[1][5]) < -0.4 or int(i[1][1]) / int(i[1][5]) > 1):\n",
    "            IPC.append(None)\n",
    "        else:\n",
    "            IPC.append(int(i[1][1]) / int(i[1][5]))\n",
    "#     print(i[1][4])\n",
    "\n",
    "data['IPC'] = IPC\n",
    "\n",
    "data = data.dropna()\n",
    "\n",
    "# Create x, where x the 'scores' column's values as floats\n",
    "x = data.values.astype(float)\n",
    "\n",
    "# Create a minimum and maximum processor object\n",
    "min_max_scaler = preprocessing.MinMaxScaler()\n",
    "\n",
    "# Create an object to transform the data to fit minmax processor\n",
    "x_scaled = min_max_scaler.fit_transform(x)\n",
    "\n",
    "# Run the normalizer on the dataframe\n",
    "data = pd.DataFrame(x_scaled)\n",
    "\n",
    "# sse = []\n",
    "# list_k = list(range(1, 20))\n",
    "\n",
    "# for k in list_k:\n",
    "#     km = KMeans(n_clusters=k)\n",
    "#     km.fit(data)\n",
    "#     sse.append(km.inertia_)\n",
    "\n",
    "# # Plot sse against k\n",
    "# plt.figure(figsize=(6, 6))\n",
    "# plt.plot(list_k, sse, '-o')\n",
    "# plt.xlabel(r'Number of clusters *k*')\n",
    "# plt.ylabel('Sum of squared distance');\n",
    "\n",
    "# Number of clusters\n",
    "kmeans = KMeans(n_clusters=9)\n",
    "# Fitting the input data\n",
    "kmeans = kmeans.fit(data)\n",
    "# Getting the cluster labels\n",
    "labels = kmeans.predict(data)\n",
    "# Centroid values\n",
    "centroids = kmeans.cluster_centers_\n",
    "\n",
    "arr = []\n",
    "for i in range(len(labels)):\n",
    "    arr.append(i)\n",
    "# print(arr)\n",
    "plt.scatter(arr, labels, c='#050505', s=7)\n",
    "plt.xlabel(\"Time(s)\\nlargewc_run\")\n",
    "plt.ylabel(\"Clusters\")"
   ]
  }
 ],
 "metadata": {
  "celltoolbar": "Slideshow",
  "kernelspec": {
   "display_name": "Python 3",
   "language": "python",
   "name": "python3"
  },
  "language_info": {
   "codemirror_mode": {
    "name": "ipython",
    "version": 3
   },
   "file_extension": ".py",
   "mimetype": "text/x-python",
   "name": "python",
   "nbconvert_exporter": "python",
   "pygments_lexer": "ipython3",
   "version": "3.6.9"
  }
 },
 "nbformat": 4,
 "nbformat_minor": 2
}
